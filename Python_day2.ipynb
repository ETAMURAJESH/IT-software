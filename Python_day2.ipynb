{
  "nbformat": 4,
  "nbformat_minor": 0,
  "metadata": {
    "colab": {
      "provenance": [],
      "authorship_tag": "ABX9TyMrFTwDkQNeqVGpJnmbjDOh",
      "include_colab_link": true
    },
    "kernelspec": {
      "name": "python3",
      "display_name": "Python 3"
    },
    "language_info": {
      "name": "python"
    }
  },
  "cells": [
    {
      "cell_type": "markdown",
      "metadata": {
        "id": "view-in-github",
        "colab_type": "text"
      },
      "source": [
        "<a href=\"https://colab.research.google.com/github/ETAMURAJESH/IT-software/blob/main/Python_day2.ipynb\" target=\"_parent\"><img src=\"https://colab.research.google.com/assets/colab-badge.svg\" alt=\"Open In Colab\"/></a>"
      ]
    },
    {
      "cell_type": "code",
      "execution_count": 1,
      "metadata": {
        "colab": {
          "base_uri": "https://localhost:8080/"
        },
        "id": "VIqvylRkXQ-8",
        "outputId": "9d21fb18-6337-4bce-abf3-10efd75d2a20"
      },
      "outputs": [
        {
          "output_type": "stream",
          "name": "stdout",
          "text": [
            "13.333333333333334\n"
          ]
        }
      ],
      "source": [
        "a,b,c=10,10,20\n",
        "avg=(a+b+c)/3\n",
        "print(avg)"
      ]
    },
    {
      "cell_type": "code",
      "source": [
        "name=input('enter name:')"
      ],
      "metadata": {
        "colab": {
          "base_uri": "https://localhost:8080/"
        },
        "id": "bL0FjeliagDM",
        "outputId": "cba8f859-5b12-4f85-8ea7-53666ac5bb17"
      },
      "execution_count": 2,
      "outputs": [
        {
          "name": "stdout",
          "output_type": "stream",
          "text": [
            "enter name:raju\n"
          ]
        }
      ]
    },
    {
      "cell_type": "code",
      "source": [
        "num1=int(input('enter number:'))\n",
        "num2=int(input('enter number:'))\n",
        "c=num1+num2\n",
        "print(c)"
      ],
      "metadata": {
        "colab": {
          "base_uri": "https://localhost:8080/"
        },
        "id": "eim_xgQha_6C",
        "outputId": "b162c964-c31a-4879-907f-1d52c2e13bb3"
      },
      "execution_count": 4,
      "outputs": [
        {
          "output_type": "stream",
          "name": "stdout",
          "text": [
            "enter number:10\n",
            "enter number:20\n",
            "30\n"
          ]
        }
      ]
    },
    {
      "cell_type": "markdown",
      "source": [],
      "metadata": {
        "id": "e4BTEgkRcUn5"
      }
    },
    {
      "cell_type": "code",
      "source": [],
      "metadata": {
        "id": "aYu5nuokae1V"
      },
      "execution_count": null,
      "outputs": []
    }
  ]
}